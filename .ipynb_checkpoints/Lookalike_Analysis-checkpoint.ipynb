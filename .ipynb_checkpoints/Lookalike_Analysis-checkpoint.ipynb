{
 "cells": [
  {
   "cell_type": "markdown",
   "id": "c7dfc5a3-c67e-4e37-b288-c8570e89b2a5",
   "metadata": {},
   "source": [
    "# Lookalike Analysis"
   ]
  },
  {
   "cell_type": "markdown",
   "id": "f97d095b-5689-4bb7-8555-64fb172eb53e",
   "metadata": {},
   "source": [
    "Find and target look-alike customers for increasing feature adoption and measure its impact on customer satisfaction"
   ]
  },
  {
   "cell_type": "markdown",
   "id": "80679c86-7650-4991-ab09-de981d5bd01c",
   "metadata": {},
   "source": [
    "## Performing Exploratory Data Analysis (EDA)"
   ]
  },
  {
   "cell_type": "code",
   "execution_count": 36,
   "id": "6da78ef2-287a-4d1b-9497-f762ade76cd1",
   "metadata": {},
   "outputs": [],
   "source": [
    "import pandas as pd\n",
    "import numpy as np \n",
    "import seaborn as sns\n",
    "import matplotlib.pyplot as plt "
   ]
  },
  {
   "cell_type": "code",
   "execution_count": 38,
   "id": "f560c61e-f8ce-47b4-9e9a-7973ade78271",
   "metadata": {},
   "outputs": [],
   "source": [
    "# Import Data \n",
    "data = pd.read_csv('data/simulated_product_usage_data.csv') "
   ]
  },
  {
   "cell_type": "markdown",
   "id": "7d0f7214-237b-444f-9b0f-9eb7c8a5dcbc",
   "metadata": {},
   "source": [
    "### 1. Study basic structure of data "
   ]
  },
  {
   "cell_type": "code",
   "execution_count": 40,
   "id": "e4f2eacc-1d02-4638-a70b-58b91d3aa1ff",
   "metadata": {},
   "outputs": [
    {
     "data": {
      "text/html": [
       "<div>\n",
       "<style scoped>\n",
       "    .dataframe tbody tr th:only-of-type {\n",
       "        vertical-align: middle;\n",
       "    }\n",
       "\n",
       "    .dataframe tbody tr th {\n",
       "        vertical-align: top;\n",
       "    }\n",
       "\n",
       "    .dataframe thead th {\n",
       "        text-align: right;\n",
       "    }\n",
       "</style>\n",
       "<table border=\"1\" class=\"dataframe\">\n",
       "  <thead>\n",
       "    <tr style=\"text-align: right;\">\n",
       "      <th></th>\n",
       "      <th>customer_id</th>\n",
       "      <th>tenure_months</th>\n",
       "      <th>plan_type</th>\n",
       "      <th>satisfaction_score</th>\n",
       "      <th>uses_new_feature</th>\n",
       "      <th>login_frequency_per_week</th>\n",
       "      <th>last_login_date</th>\n",
       "      <th>feature_A_usage</th>\n",
       "      <th>feature_B_usage</th>\n",
       "      <th>feature_C_usage</th>\n",
       "      <th>feature_D_usage</th>\n",
       "      <th>feature_E_usage</th>\n",
       "      <th>business_age_years</th>\n",
       "      <th>industry</th>\n",
       "      <th>location_type</th>\n",
       "    </tr>\n",
       "  </thead>\n",
       "  <tbody>\n",
       "    <tr>\n",
       "      <th>0</th>\n",
       "      <td>1</td>\n",
       "      <td>39</td>\n",
       "      <td>Free</td>\n",
       "      <td>4.588943</td>\n",
       "      <td>0</td>\n",
       "      <td>1</td>\n",
       "      <td>2025-05-10 04:34:20.683625</td>\n",
       "      <td>5.491559</td>\n",
       "      <td>4.018597</td>\n",
       "      <td>0</td>\n",
       "      <td>0.534074</td>\n",
       "      <td>5.616507</td>\n",
       "      <td>20</td>\n",
       "      <td>Technology</td>\n",
       "      <td>Urban</td>\n",
       "    </tr>\n",
       "    <tr>\n",
       "      <th>1</th>\n",
       "      <td>2</td>\n",
       "      <td>52</td>\n",
       "      <td>Basic</td>\n",
       "      <td>5.062265</td>\n",
       "      <td>0</td>\n",
       "      <td>3</td>\n",
       "      <td>2025-05-07 04:34:20.683662</td>\n",
       "      <td>5.712754</td>\n",
       "      <td>5.206301</td>\n",
       "      <td>1</td>\n",
       "      <td>0.628274</td>\n",
       "      <td>5.218925</td>\n",
       "      <td>14</td>\n",
       "      <td>Retail</td>\n",
       "      <td>Urban</td>\n",
       "    </tr>\n",
       "    <tr>\n",
       "      <th>2</th>\n",
       "      <td>3</td>\n",
       "      <td>29</td>\n",
       "      <td>Enterprise</td>\n",
       "      <td>7.872752</td>\n",
       "      <td>0</td>\n",
       "      <td>2</td>\n",
       "      <td>2025-05-12 04:34:20.683666</td>\n",
       "      <td>1.114746</td>\n",
       "      <td>2.048393</td>\n",
       "      <td>0</td>\n",
       "      <td>0.459655</td>\n",
       "      <td>5.550395</td>\n",
       "      <td>14</td>\n",
       "      <td>Retail</td>\n",
       "      <td>Suburban</td>\n",
       "    </tr>\n",
       "    <tr>\n",
       "      <th>3</th>\n",
       "      <td>4</td>\n",
       "      <td>15</td>\n",
       "      <td>Basic</td>\n",
       "      <td>7.081717</td>\n",
       "      <td>0</td>\n",
       "      <td>2</td>\n",
       "      <td>2025-05-23 04:34:20.683670</td>\n",
       "      <td>3.797455</td>\n",
       "      <td>8.106733</td>\n",
       "      <td>0</td>\n",
       "      <td>0.508047</td>\n",
       "      <td>2.512840</td>\n",
       "      <td>45</td>\n",
       "      <td>Finance</td>\n",
       "      <td>Urban</td>\n",
       "    </tr>\n",
       "    <tr>\n",
       "      <th>4</th>\n",
       "      <td>5</td>\n",
       "      <td>43</td>\n",
       "      <td>Basic</td>\n",
       "      <td>6.894750</td>\n",
       "      <td>0</td>\n",
       "      <td>1</td>\n",
       "      <td>2025-05-11 04:34:20.683689</td>\n",
       "      <td>2.830069</td>\n",
       "      <td>5.443132</td>\n",
       "      <td>0</td>\n",
       "      <td>0.974164</td>\n",
       "      <td>3.680501</td>\n",
       "      <td>28</td>\n",
       "      <td>Technology</td>\n",
       "      <td>Urban</td>\n",
       "    </tr>\n",
       "  </tbody>\n",
       "</table>\n",
       "</div>"
      ],
      "text/plain": [
       "   customer_id  tenure_months   plan_type  satisfaction_score  \\\n",
       "0            1             39        Free            4.588943   \n",
       "1            2             52       Basic            5.062265   \n",
       "2            3             29  Enterprise            7.872752   \n",
       "3            4             15       Basic            7.081717   \n",
       "4            5             43       Basic            6.894750   \n",
       "\n",
       "   uses_new_feature  login_frequency_per_week             last_login_date  \\\n",
       "0                 0                         1  2025-05-10 04:34:20.683625   \n",
       "1                 0                         3  2025-05-07 04:34:20.683662   \n",
       "2                 0                         2  2025-05-12 04:34:20.683666   \n",
       "3                 0                         2  2025-05-23 04:34:20.683670   \n",
       "4                 0                         1  2025-05-11 04:34:20.683689   \n",
       "\n",
       "   feature_A_usage  feature_B_usage  feature_C_usage  feature_D_usage  \\\n",
       "0         5.491559         4.018597                0         0.534074   \n",
       "1         5.712754         5.206301                1         0.628274   \n",
       "2         1.114746         2.048393                0         0.459655   \n",
       "3         3.797455         8.106733                0         0.508047   \n",
       "4         2.830069         5.443132                0         0.974164   \n",
       "\n",
       "   feature_E_usage  business_age_years    industry location_type  \n",
       "0         5.616507                  20  Technology         Urban  \n",
       "1         5.218925                  14      Retail         Urban  \n",
       "2         5.550395                  14      Retail      Suburban  \n",
       "3         2.512840                  45     Finance         Urban  \n",
       "4         3.680501                  28  Technology         Urban  "
      ]
     },
     "execution_count": 40,
     "metadata": {},
     "output_type": "execute_result"
    }
   ],
   "source": [
    "data.head()"
   ]
  },
  {
   "cell_type": "code",
   "execution_count": 42,
   "id": "c48186e4-e426-4ef0-90c7-028cc22d1b40",
   "metadata": {},
   "outputs": [
    {
     "name": "stdout",
     "output_type": "stream",
     "text": [
      "<class 'pandas.core.frame.DataFrame'>\n",
      "RangeIndex: 10000 entries, 0 to 9999\n",
      "Data columns (total 15 columns):\n",
      " #   Column                    Non-Null Count  Dtype  \n",
      "---  ------                    --------------  -----  \n",
      " 0   customer_id               10000 non-null  int64  \n",
      " 1   tenure_months             10000 non-null  int64  \n",
      " 2   plan_type                 10000 non-null  object \n",
      " 3   satisfaction_score        10000 non-null  float64\n",
      " 4   uses_new_feature          10000 non-null  int64  \n",
      " 5   login_frequency_per_week  10000 non-null  int64  \n",
      " 6   last_login_date           10000 non-null  object \n",
      " 7   feature_A_usage           10000 non-null  float64\n",
      " 8   feature_B_usage           10000 non-null  float64\n",
      " 9   feature_C_usage           10000 non-null  int64  \n",
      " 10  feature_D_usage           10000 non-null  float64\n",
      " 11  feature_E_usage           10000 non-null  float64\n",
      " 12  business_age_years        10000 non-null  int64  \n",
      " 13  industry                  10000 non-null  object \n",
      " 14  location_type             10000 non-null  object \n",
      "dtypes: float64(5), int64(6), object(4)\n",
      "memory usage: 1.1+ MB\n"
     ]
    }
   ],
   "source": [
    "data.info()"
   ]
  },
  {
   "cell_type": "code",
   "execution_count": 44,
   "id": "d34ff9c9-8bfa-4ff0-876c-bfcaea541dbb",
   "metadata": {},
   "outputs": [
    {
     "data": {
      "text/plain": [
       "customer_id                 0\n",
       "tenure_months               0\n",
       "plan_type                   0\n",
       "satisfaction_score          0\n",
       "uses_new_feature            0\n",
       "login_frequency_per_week    0\n",
       "last_login_date             0\n",
       "feature_A_usage             0\n",
       "feature_B_usage             0\n",
       "feature_C_usage             0\n",
       "feature_D_usage             0\n",
       "feature_E_usage             0\n",
       "business_age_years          0\n",
       "industry                    0\n",
       "location_type               0\n",
       "dtype: int64"
      ]
     },
     "execution_count": 44,
     "metadata": {},
     "output_type": "execute_result"
    }
   ],
   "source": [
    "# Check for missing values \n",
    "data.isnull().sum() "
   ]
  },
  {
   "cell_type": "markdown",
   "id": "634607a6-5aa3-4bd9-ad0f-684a55036286",
   "metadata": {},
   "source": [
    "**Observation:** There are no missing values in the data "
   ]
  },
  {
   "cell_type": "markdown",
   "id": "60719d3b-737b-4eea-959d-fc97964da3a2",
   "metadata": {},
   "source": [
    "### 2. Study the variables "
   ]
  },
  {
   "cell_type": "markdown",
   "id": "314663d9-f950-443c-a7e9-964391ff145d",
   "metadata": {},
   "source": [
    "**Variable - tenure_months**"
   ]
  },
  {
   "cell_type": "code",
   "execution_count": 66,
   "id": "31267780-7b63-4264-b1c8-ca4a8dfa72c5",
   "metadata": {},
   "outputs": [
    {
     "data": {
      "text/plain": [
       "count    10000.000000\n",
       "mean        30.260700\n",
       "std         17.021666\n",
       "min          1.000000\n",
       "25%         16.000000\n",
       "50%         30.000000\n",
       "75%         45.000000\n",
       "max         59.000000\n",
       "Name: tenure_months, dtype: float64"
      ]
     },
     "execution_count": 66,
     "metadata": {},
     "output_type": "execute_result"
    }
   ],
   "source": [
    "# Describe tenure_months\n",
    "data['tenure_months'].describe()"
   ]
  },
  {
   "cell_type": "code",
   "execution_count": 62,
   "id": "3c1cadd3-8491-4618-8dd7-a9d3ac5de36a",
   "metadata": {},
   "outputs": [
    {
     "data": {
      "image/png": "[encoded data removed]",
      "text/plain": [
       "<Figure size 640x480 with 1 Axes>"
      ]
     },
     "metadata": {},
     "output_type": "display_data"
    }
   ],
   "source": [
    "# Plot histogram of tenure_months \n",
    "sns.histplot(data['tenure_months'], kde=True, color='skyblue')\n",
    "plt.title('Histogram of Tenure')\n",
    "plt.xlabel('Months')\n",
    "plt.ylabel('Frequency')\n",
    "plt.show() "
   ]
  },
  {
   "cell_type": "markdown",
   "id": "1be2389a-38c6-4f32-8b13-78b2a36f2c14",
   "metadata": {},
   "source": [
    "**Observation:** Customer's tenure with the product is between 1 to 60 months and is very evenly distributed with median and mean being 30 months"
   ]
  },
  {
   "cell_type": "markdown",
   "id": "71bf4489-1f1b-4d76-9351-c6e35b79f1dd",
   "metadata": {},
   "source": [
    "**Variable - plan_type**"
   ]
  },
  {
   "cell_type": "code",
   "execution_count": 80,
   "id": "c22a55c3-5c55-46ba-98a5-0f45bed1931c",
   "metadata": {},
   "outputs": [
    {
     "data": {
      "image/png": "[encoded data removed]",
      "text/plain": [
       "<Figure size 640x480 with 1 Axes>"
      ]
     },
     "metadata": {},
     "output_type": "display_data"
    }
   ],
   "source": [
    "# Plotting distribution on plan_type \n",
    "\n",
    "percentages = data['plan_type'].value_counts(normalize=True) * 100\n",
    "\n",
    "ax = sns.barplot(x=percentages.index, y=percentages.values)\n",
    "plt.ylabel('Percentage')\n",
    "plt.title('% Distribution By Plan Type')\n",
    "\n",
    "for i, v in enumerate(percentages.values):\n",
    "    ax.text(i, v + 0.5, f'{v:.1f}%', ha='center')\n",
    "    \n",
    "plt.show()"
   ]
  },
  {
   "cell_type": "markdown",
   "id": "72efa1e4-85c4-4d03-9da0-96c744e35900",
   "metadata": {},
   "source": [
    "**Observation:** Basic and Pro are most favored plan types by customers with 30% adoption each, followed by Enterprise and Free types with 20% each "
   ]
  },
  {
   "cell_type": "code",
   "execution_count": null,
   "id": "435c6b4b-10aa-49dd-ac14-65eff05884d8",
   "metadata": {},
   "outputs": [],
   "source": []
  }
 ],
 "metadata": {
  "kernelspec": {
   "display_name": "Python [conda env:base] *",
   "language": "python",
   "name": "conda-base-py"
  },
  "language_info": {
   "codemirror_mode": {
    "name": "ipython",
    "version": 3
   },
   "file_extension": ".py",
   "mimetype": "text/x-python",
   "name": "python",
   "nbconvert_exporter": "python",
   "pygments_lexer": "ipython3",
   "version": "3.12.7"
  }
 },
 "nbformat": 4,
 "nbformat_minor": 5
}
